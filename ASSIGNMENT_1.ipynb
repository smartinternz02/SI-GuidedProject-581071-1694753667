{
  "nbformat": 4,
  "nbformat_minor": 0,
  "metadata": {
    "colab": {
      "provenance": []
    },
    "kernelspec": {
      "name": "python3",
      "display_name": "Python 3"
    },
    "language_info": {
      "name": "python"
    }
  },
  "cells": [
    {
      "cell_type": "markdown",
      "source": [
        "ASSIGNMENT_1\n",
        "ABDUL AZIZ(21BCE8621)\n",
        "\n",
        "QUESTIONS:\n",
        "\n",
        "Task - 1 Create a pandas dataframe (DataFrame name as 'df') with numpy random values (4 features and 4 observation)\n",
        "\n",
        "Task - 2 Rename the task - 1 'df' dataframe column names to 'Random value 1', 'Random value 2', 'Random value 3' & 'Random value 4'\n",
        "\n",
        "Task - 3 Find the descriptive statistics of the 'df' dataframe.\n",
        "\n",
        "Task - 4 Check for the null values in 'df' and find the data type of the columns.\n",
        "\n",
        "Task - 5 Display the 'Random value 2' & 'Random value 3' columns with location method and index location method"
      ],
      "metadata": {
        "id": "IDkGLIL04ekB"
      }
    },
    {
      "cell_type": "code",
      "source": [
        "import pandas as pd\n",
        "import numpy as np\n",
        "\n",
        "# Task 1\n",
        "data = np.random.rand(4, 4)\n",
        "df = pd.DataFrame(data, columns=['Random value 1', 'Random value 2', 'Random value 3', 'Random value 4'])\n",
        "\n",
        "# Task 2\n",
        "df.columns = ['Random value 1', 'Random value 2', 'Random value 3', 'Random value 4']\n",
        "\n",
        "# Task 3\n",
        "descriptive_stats = df.describe()\n",
        "\n",
        "# Task 4\n",
        "null_values = df.isnull().sum()\n",
        "data_types = df.dtypes\n",
        "\n",
        "# Task 5\n",
        "random_value_2_loc = df.loc[:, 'Random value 2']\n",
        "random_value_3_loc = df.loc[:, 'Random value 3']\n",
        "random_value_2_idx = df.iloc[:, 1]\n",
        "random_value_3_idx = df.iloc[:, 2]\n",
        "\n",
        "print(\"Task 1 - DataFrame 'df':\")\n",
        "print(df)\n",
        "\n",
        "print(\"\\nTask 2 - Column names after renaming:\")\n",
        "print(df.columns)\n",
        "\n",
        "print(\"\\nTask 3 - Descriptive statistics of 'df':\")\n",
        "print(descriptive_stats)\n",
        "\n",
        "print(\"\\nTask 4 - Null values and data types:\")\n",
        "print(\"Null Values:\")\n",
        "print(null_values)\n",
        "print(\"\\nData Types:\")\n",
        "print(data_types)\n",
        "\n",
        "print(\"\\nTask 5 - 'Random value 2' & 'Random value 3' columns:\")\n",
        "print(\"Using .loc method:\")\n",
        "print(random_value_2_loc)\n",
        "print(random_value_3_loc)\n",
        "print(\"\\nUsing iloc index location method:\")\n",
        "print(random_value_2_idx)\n",
        "print(random_value_3_idx)\n"
      ],
      "metadata": {
        "colab": {
          "base_uri": "https://localhost:8080/"
        },
        "id": "rJ0zF8CF4lCg",
        "outputId": "fbb6da2b-c7ce-4543-eb80-2735b26bfea7"
      },
      "execution_count": null,
      "outputs": [
        {
          "output_type": "stream",
          "name": "stdout",
          "text": [
            "Task 1 - DataFrame 'df':\n",
            "   Random value 1  Random value 2  Random value 3  Random value 4\n",
            "0        0.876658        0.092473        0.789077        0.359285\n",
            "1        0.133136        0.271642        0.067863        0.734796\n",
            "2        0.417395        0.686414        0.279975        0.572773\n",
            "3        0.275918        0.002448        0.985313        0.899331\n",
            "\n",
            "Task 2 - Column names after renaming:\n",
            "Index(['Random value 1', 'Random value 2', 'Random value 3', 'Random value 4'], dtype='object')\n",
            "\n",
            "Task 3 - Descriptive statistics of 'df':\n",
            "       Random value 1  Random value 2  Random value 3  Random value 4\n",
            "count        4.000000        4.000000        4.000000        4.000000\n",
            "mean         0.425777        0.263244        0.530557        0.641546\n",
            "std          0.322212        0.303491        0.428374        0.230615\n",
            "min          0.133136        0.002448        0.067863        0.359285\n",
            "25%          0.240222        0.069967        0.226947        0.519401\n",
            "50%          0.346656        0.182057        0.534526        0.653784\n",
            "75%          0.532211        0.375335        0.838136        0.775930\n",
            "max          0.876658        0.686414        0.985313        0.899331\n",
            "\n",
            "Task 4 - Null values and data types:\n",
            "Null Values:\n",
            "Random value 1    0\n",
            "Random value 2    0\n",
            "Random value 3    0\n",
            "Random value 4    0\n",
            "dtype: int64\n",
            "\n",
            "Data Types:\n",
            "Random value 1    float64\n",
            "Random value 2    float64\n",
            "Random value 3    float64\n",
            "Random value 4    float64\n",
            "dtype: object\n",
            "\n",
            "Task 5 - 'Random value 2' & 'Random value 3' columns:\n",
            "Using .loc method:\n",
            "0    0.092473\n",
            "1    0.271642\n",
            "2    0.686414\n",
            "3    0.002448\n",
            "Name: Random value 2, dtype: float64\n",
            "0    0.789077\n",
            "1    0.067863\n",
            "2    0.279975\n",
            "3    0.985313\n",
            "Name: Random value 3, dtype: float64\n",
            "\n",
            "Using iloc index location method:\n",
            "0    0.092473\n",
            "1    0.271642\n",
            "2    0.686414\n",
            "3    0.002448\n",
            "Name: Random value 2, dtype: float64\n",
            "0    0.789077\n",
            "1    0.067863\n",
            "2    0.279975\n",
            "3    0.985313\n",
            "Name: Random value 3, dtype: float64\n"
          ]
        }
      ]
    },
    {
      "cell_type": "markdown",
      "source": [
        "QUESTIONS:\n",
        "\n",
        "Task - 1 Create a pandas dataframe (DataFrame name as 'df') (10 observation and 5 features)\n",
        "\n",
        "Task- 2 Check the info of 'df'\n",
        "\n",
        "Task 3- Check the descriptive statistics of 'df'\n",
        "\n",
        "Task 4- check the 4th index observation with 'loc' slicing operator.\n",
        "\n",
        "Task 5 - Check the null values in your 'df'"
      ],
      "metadata": {
        "id": "sln0EBRR4uZp"
      }
    },
    {
      "cell_type": "code",
      "source": [
        "import pandas as pd\n",
        "import numpy as np"
      ],
      "metadata": {
        "id": "i6G_ib6D4z1K"
      },
      "execution_count": null,
      "outputs": []
    },
    {
      "cell_type": "code",
      "source": [
        "# Task 1\n",
        "data = {\n",
        "    'Feature1': np.random.rand(10),\n",
        "    'Feature2': np.random.randint(0,50,10),\n",
        "    'Feature3': np.random.choice(['A','B','C'],10),\n",
        "    'Feature4': np.random.randn(10),\n",
        "    'Feature5': np.random.uniform(1,10,10)\n",
        "}"
      ],
      "metadata": {
        "id": "SwdNZdeV42cc"
      },
      "execution_count": null,
      "outputs": []
    },
    {
      "cell_type": "code",
      "source": [
        "df = pd.DataFrame(data)"
      ],
      "metadata": {
        "id": "ZSCrYEb948YE"
      },
      "execution_count": null,
      "outputs": []
    },
    {
      "cell_type": "code",
      "source": [
        "# Task 2\n",
        "print('Info of \"df\": ')\n",
        "print(df.info())"
      ],
      "metadata": {
        "colab": {
          "base_uri": "https://localhost:8080/"
        },
        "id": "85G7SuHT49_Y",
        "outputId": "fa4cee6a-b978-4f5f-a304-65c26bdddba7"
      },
      "execution_count": null,
      "outputs": [
        {
          "output_type": "stream",
          "name": "stdout",
          "text": [
            "Info of \"df\": \n",
            "<class 'pandas.core.frame.DataFrame'>\n",
            "RangeIndex: 10 entries, 0 to 9\n",
            "Data columns (total 5 columns):\n",
            " #   Column    Non-Null Count  Dtype  \n",
            "---  ------    --------------  -----  \n",
            " 0   Feature1  10 non-null     float64\n",
            " 1   Feature2  10 non-null     int64  \n",
            " 2   Feature3  10 non-null     object \n",
            " 3   Feature4  10 non-null     float64\n",
            " 4   Feature5  10 non-null     float64\n",
            "dtypes: float64(3), int64(1), object(1)\n",
            "memory usage: 528.0+ bytes\n",
            "None\n"
          ]
        }
      ]
    },
    {
      "cell_type": "code",
      "source": [
        "# Task 3\n",
        "print('Descriptive Statistics of \"df\": ')\n",
        "print(df.describe())"
      ],
      "metadata": {
        "colab": {
          "base_uri": "https://localhost:8080/"
        },
        "id": "Vsmqzmm95AZd",
        "outputId": "6cb3ea3a-d6c0-4351-b821-26ca8f4bb30d"
      },
      "execution_count": null,
      "outputs": [
        {
          "output_type": "stream",
          "name": "stdout",
          "text": [
            "Descriptive Statistics of \"df\": \n",
            "        Feature1   Feature2   Feature4   Feature5\n",
            "count  10.000000  10.000000  10.000000  10.000000\n",
            "mean    0.343218  27.800000   0.074052   5.662148\n",
            "std     0.165152  15.098197   1.452726   2.129843\n",
            "min     0.034294   3.000000  -2.049847   2.564008\n",
            "25%     0.236116  17.000000  -0.709041   3.938735\n",
            "50%     0.362306  32.000000   0.039653   5.448664\n",
            "75%     0.426300  40.000000   1.041987   7.549080\n",
            "max     0.634779  46.000000   2.438998   8.906674\n"
          ]
        }
      ]
    },
    {
      "cell_type": "code",
      "source": [
        "# Task 4\n",
        "print(\"4th Index observation with 'loc' slicing Operator: \")\n",
        "print(df.loc[2])"
      ],
      "metadata": {
        "colab": {
          "base_uri": "https://localhost:8080/"
        },
        "id": "dJFwLqNm5E9a",
        "outputId": "65d1667e-9871-45cf-efc4-51395dd7bfbd"
      },
      "execution_count": null,
      "outputs": [
        {
          "output_type": "stream",
          "name": "stdout",
          "text": [
            "4th Index observation with 'loc' slicing Operator: \n",
            "Feature1    0.431241\n",
            "Feature2          34\n",
            "Feature3           B\n",
            "Feature4    1.712635\n",
            "Feature5    3.526221\n",
            "Name: 2, dtype: object\n"
          ]
        }
      ]
    },
    {
      "cell_type": "code",
      "source": [
        "# Task 5\n",
        "print(\" Null Values in 'df':\" )\n",
        "print(df.isnull().sum())\n"
      ],
      "metadata": {
        "colab": {
          "base_uri": "https://localhost:8080/"
        },
        "id": "g-U4z5SI5GO_",
        "outputId": "3d399d0a-f966-459f-d58c-1480a58754c1"
      },
      "execution_count": null,
      "outputs": [
        {
          "output_type": "stream",
          "name": "stdout",
          "text": [
            " Null Values in 'df':\n",
            "Feature1    0\n",
            "Feature2    0\n",
            "Feature3    0\n",
            "Feature4    0\n",
            "Feature5    0\n",
            "dtype: int64\n"
          ]
        }
      ]
    }
  ]
}